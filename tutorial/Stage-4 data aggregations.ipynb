{
 "cells": [
  {
   "cell_type": "markdown",
   "metadata": {},
   "source": [
    "# Aggregations"
   ]
  },
  {
   "cell_type": "markdown",
   "metadata": {},
   "source": [
    "[docs](https://www.elastic.co/guide/en/elasticsearch/reference/current/search-aggregations.html)\n",
    "\n",
    "Bucketing\n",
    "\n",
    "Metric\n",
    "\n",
    "Matrix\n",
    "\n",
    "Pipeline"
   ]
  },
  {
   "cell_type": "markdown",
   "metadata": {},
   "source": [
    "```\n",
    "\"aggregations\" : {\n",
    "    \"<aggregation_name>\" : {\n",
    "        \"<aggregation_type>\" : { \n",
    "            <aggregation_body>\n",
    "        },\n",
    "        [\"aggregations\" : { [<sub_aggregation>]* } ]\n",
    "    }\n",
    "    [,\"<aggregation_name_2>\" : { ... } ]*\n",
    "}\n",
    "```"
   ]
  },
  {
   "cell_type": "code",
   "execution_count": null,
   "metadata": {},
   "outputs": [],
   "source": [
    "# settings\n",
    "\n",
    "index_name = 'library'\n",
    "_type = 'books'"
   ]
  },
  {
   "cell_type": "code",
   "execution_count": null,
   "metadata": {},
   "outputs": [],
   "source": [
    "from elasticsearch import Elasticsearch\n",
    "import requests as r\n",
    "\n",
    "\n",
    "\n",
    "client = Elasticsearch('http://elsatic:9200')"
   ]
  },
  {
   "cell_type": "code",
   "execution_count": null,
   "metadata": {},
   "outputs": [],
   "source": [
    "# Bucket Aggregations\n",
    "import json\n",
    "\n",
    "query =  {\n",
    "   \"size\": 0,\n",
    "   \"aggregations\": {\n",
    "      \"pages\": {\n",
    "         \"terms\": {\n",
    "            \"field\": \"pages\"\n",
    "         }\n",
    "      }\n",
    "   }\n",
    "}\n",
    "\n",
    "res = client.search(\n",
    "    index=index_name,\n",
    "    body=query\n",
    ")\n",
    "\n",
    "print(json.dumps(res, indent=4, sort_keys=True))\n"
   ]
  },
  {
   "cell_type": "code",
   "execution_count": null,
   "metadata": {},
   "outputs": [],
   "source": [
    "# Metric Aggregations\n",
    "\n",
    "import json\n",
    "\n",
    "query = {\n",
    "   \"size\": 0,\n",
    "   \"aggs\": {\n",
    "      \"author_count\": {\n",
    "         \"value_count\": {\n",
    "            \"field\": \"author\"\n",
    "         }\n",
    "      }\n",
    "   }\n",
    "}\n",
    "\n",
    "res = client.search(\n",
    "    index=index_name,\n",
    "    body=query\n",
    ")\n",
    "\n",
    "print(json.dumps(res, indent=4, sort_keys=True))"
   ]
  }
 ],
 "metadata": {
  "kernelspec": {
   "display_name": "Python 3",
   "language": "python",
   "name": "python3"
  },
  "language_info": {
   "codemirror_mode": {
    "name": "ipython",
    "version": 3
   },
   "file_extension": ".py",
   "mimetype": "text/x-python",
   "name": "python",
   "nbconvert_exporter": "python",
   "pygments_lexer": "ipython3",
   "version": "3.6.5"
  }
 },
 "nbformat": 4,
 "nbformat_minor": 2
}
