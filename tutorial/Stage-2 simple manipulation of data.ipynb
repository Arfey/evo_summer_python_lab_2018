{
 "cells": [
  {
   "cell_type": "markdown",
   "metadata": {},
   "source": [
    "# Stage 2 | Simple api methods"
   ]
  },
  {
   "cell_type": "code",
   "execution_count": 1,
   "metadata": {},
   "outputs": [
    {
     "name": "stdout",
     "output_type": "stream",
     "text": [
      "{\n",
      "  \"name\" : \"5TSIKPT\",\n",
      "  \"cluster_name\" : \"elasticsearch\",\n",
      "  \"cluster_uuid\" : \"_IO8aZNEQh6BjWPJVRvOvQ\",\n",
      "  \"version\" : {\n",
      "    \"number\" : \"5.6.4\",\n",
      "    \"build_hash\" : \"8bbedf5\",\n",
      "    \"build_date\" : \"2017-10-31T18:55:38.105Z\",\n",
      "    \"build_snapshot\" : false,\n",
      "    \"lucene_version\" : \"6.6.1\"\n",
      "  },\n",
      "  \"tagline\" : \"You Know, for Search\"\n",
      "}\n",
      "\n"
     ]
    }
   ],
   "source": [
    "import requests as r\n",
    "\n",
    "\n",
    "class Elastic:\n",
    "    \"\"\"\n",
    "    The so simple wrapper for Elasticsearch.\n",
    "    \"\"\"\n",
    "    headers = {\n",
    "        'Content-Type': 'application/json'\n",
    "    }\n",
    "    url = 'http://elsatic:9200/{path}?pretty'\n",
    "    \n",
    "    def get(self, path: str = '/') -> None:\n",
    "        res =  r.get(self.url.format(path=path))\n",
    "        print(res.text)\n",
    "    \n",
    "    def post(self, path: str = '/', **kwargs) -> None:\n",
    "        res =  r.post(\n",
    "            self.url.format(path=path),\n",
    "            headers=self.headers,\n",
    "            **kwargs\n",
    "        )\n",
    "        print(res.text)\n",
    "    \n",
    "    def put(self, path: str = '/', **kwargs) -> None:\n",
    "        res =  r.put(\n",
    "            self.url.format(path=path),\n",
    "            headers=self.headers,\n",
    "            **kwargs,\n",
    "        )\n",
    "        print(res.text)\n",
    "    \n",
    "    \n",
    "    def delete(self, path: str = '/') -> None:\n",
    "        res =  r.delete(self.url.format(path=path))\n",
    "        print(res.text)\n",
    "\n",
    "\n",
    "elastic = Elastic()\n",
    "\n",
    "elastic.get('/')"
   ]
  },
  {
   "cell_type": "markdown",
   "metadata": {},
   "source": [
    "### Index"
   ]
  },
  {
   "cell_type": "code",
   "execution_count": 3,
   "metadata": {},
   "outputs": [],
   "source": [
    "# settings\n",
    "\n",
    "INDEX_NAME = 'stage-2'\n",
    "TYPE_NAME = 'book'"
   ]
  },
  {
   "cell_type": "code",
   "execution_count": 4,
   "metadata": {},
   "outputs": [
    {
     "name": "stdout",
     "output_type": "stream",
     "text": [
      "{\n",
      "  \"error\" : {\n",
      "    \"root_cause\" : [\n",
      "      {\n",
      "        \"type\" : \"index_already_exists_exception\",\n",
      "        \"reason\" : \"index [stage-2/OU4GnLzGQ7-xOpMJkEfRvg] already exists\",\n",
      "        \"index_uuid\" : \"OU4GnLzGQ7-xOpMJkEfRvg\",\n",
      "        \"index\" : \"stage-2\"\n",
      "      }\n",
      "    ],\n",
      "    \"type\" : \"index_already_exists_exception\",\n",
      "    \"reason\" : \"index [stage-2/OU4GnLzGQ7-xOpMJkEfRvg] already exists\",\n",
      "    \"index_uuid\" : \"OU4GnLzGQ7-xOpMJkEfRvg\",\n",
      "    \"index\" : \"stage-2\"\n",
      "  },\n",
      "  \"status\" : 400\n",
      "}\n",
      "\n"
     ]
    }
   ],
   "source": [
    "# create index\n",
    "\n",
    "\n",
    "elastic.put(f'{INDEX_NAME}')"
   ]
  },
  {
   "cell_type": "code",
   "execution_count": 10,
   "metadata": {},
   "outputs": [
    {
     "name": "stdout",
     "output_type": "stream",
     "text": [
      "{\n",
      "  \"_index\" : \"stage-2\",\n",
      "  \"_type\" : \"book\",\n",
      "  \"_id\" : \"1\",\n",
      "  \"_version\" : 4,\n",
      "  \"result\" : \"updated\",\n",
      "  \"_shards\" : {\n",
      "    \"total\" : 2,\n",
      "    \"successful\" : 1,\n",
      "    \"failed\" : 0\n",
      "  },\n",
      "  \"created\" : false\n",
      "}\n",
      "\n"
     ]
    }
   ],
   "source": [
    "# create a first instance\n",
    "# create auto mapping with instance, fields, version, id\n",
    "data = {\n",
    "    \"title\": \"My favourite book\",\n",
    "    \"body\": \"The so boring story.\"\n",
    "}\n",
    "\n",
    "elastic.post(f'{INDEX_NAME}/{TYPE_NAME}/1', json=data)"
   ]
  },
  {
   "cell_type": "markdown",
   "metadata": {},
   "source": [
    "### Get"
   ]
  },
  {
   "cell_type": "code",
   "execution_count": 7,
   "metadata": {},
   "outputs": [
    {
     "name": "stdout",
     "output_type": "stream",
     "text": [
      "{\n",
      "  \"_index\" : \"stage-2\",\n",
      "  \"_type\" : \"book\",\n",
      "  \"_id\" : \"1\",\n",
      "  \"_version\" : 1,\n",
      "  \"found\" : true,\n",
      "  \"_source\" : {\n",
      "    \"title\" : \"My favourite book\",\n",
      "    \"body\" : \"The so boring story.\"\n",
      "  }\n",
      "}\n",
      "\n"
     ]
    }
   ],
   "source": [
    "# get information\n",
    "\n",
    "elastic.get(f'{INDEX_NAME}/{TYPE_NAME}/1')"
   ]
  },
  {
   "cell_type": "markdown",
   "metadata": {},
   "source": [
    "### MGet"
   ]
  },
  {
   "cell_type": "code",
   "execution_count": 11,
   "metadata": {},
   "outputs": [
    {
     "name": "stdout",
     "output_type": "stream",
     "text": [
      "{\n",
      "  \"docs\" : [\n",
      "    {\n",
      "      \"_index\" : \"stage-2\",\n",
      "      \"_type\" : \"book\",\n",
      "      \"_id\" : \"1\",\n",
      "      \"_version\" : 4,\n",
      "      \"found\" : true,\n",
      "      \"_source\" : {\n",
      "        \"title\" : \"My favourite book\",\n",
      "        \"body\" : \"The so boring story.\"\n",
      "      }\n",
      "    },\n",
      "    {\n",
      "      \"_index\" : \"stage-2\",\n",
      "      \"_type\" : \"book\",\n",
      "      \"_id\" : \"AWSvdbwJKhyi0n1CdVQm\",\n",
      "      \"found\" : false\n",
      "    }\n",
      "  ]\n",
      "}\n",
      "\n"
     ]
    }
   ],
   "source": [
    "# false\n",
    "\n",
    "data = {\n",
    "    \"ids\": [\"1\", \"AWSvdbwJKhyi0n1CdVQm\"]\n",
    "}\n",
    "\n",
    "elastic.post(f'{INDEX_NAME}/{TYPE_NAME}/_mget', json=data)"
   ]
  },
  {
   "cell_type": "markdown",
   "metadata": {},
   "source": [
    "### Update"
   ]
  },
  {
   "cell_type": "code",
   "execution_count": 12,
   "metadata": {},
   "outputs": [
    {
     "name": "stdout",
     "output_type": "stream",
     "text": [
      "{\n",
      "  \"_index\" : \"stage-2\",\n",
      "  \"_type\" : \"book\",\n",
      "  \"_id\" : \"1\",\n",
      "  \"_version\" : 5,\n",
      "  \"result\" : \"updated\",\n",
      "  \"_shards\" : {\n",
      "    \"total\" : 2,\n",
      "    \"successful\" : 1,\n",
      "    \"failed\" : 0\n",
      "  },\n",
      "  \"created\" : false\n",
      "}\n",
      "\n",
      "{\n",
      "  \"_index\" : \"stage-2\",\n",
      "  \"_type\" : \"book\",\n",
      "  \"_id\" : \"1\",\n",
      "  \"_version\" : 5,\n",
      "  \"found\" : true,\n",
      "  \"_source\" : {\n",
      "    \"title\" : \"Theory of elasticsearch!\"\n",
      "  }\n",
      "}\n",
      "\n"
     ]
    }
   ],
   "source": [
    "# update query\n",
    "\n",
    "data = {\n",
    "    \"title\": \"Theory of elasticsearch!\"\n",
    "}\n",
    "\n",
    "elastic.put(f'{INDEX_NAME}/{TYPE_NAME}/1', json=data)\n",
    "elastic.get(f'{INDEX_NAME}/{TYPE_NAME}/1')"
   ]
  },
  {
   "cell_type": "code",
   "execution_count": 13,
   "metadata": {},
   "outputs": [
    {
     "name": "stdout",
     "output_type": "stream",
     "text": [
      "{\n",
      "  \"_index\" : \"stage-2\",\n",
      "  \"_type\" : \"book\",\n",
      "  \"_id\" : \"1\",\n",
      "  \"_version\" : 6,\n",
      "  \"result\" : \"updated\",\n",
      "  \"_shards\" : {\n",
      "    \"total\" : 2,\n",
      "    \"successful\" : 1,\n",
      "    \"failed\" : 0\n",
      "  }\n",
      "}\n",
      "\n",
      "{\n",
      "  \"_index\" : \"stage-2\",\n",
      "  \"_type\" : \"book\",\n",
      "  \"_id\" : \"1\",\n",
      "  \"_version\" : 6,\n",
      "  \"found\" : true,\n",
      "  \"_source\" : {\n",
      "    \"title\" : \"Theory of elasticsearch!\",\n",
      "    \"body\" : \"The so boring story.\"\n",
      "  }\n",
      "}\n",
      "\n"
     ]
    }
   ],
   "source": [
    "# revrite\n",
    "\n",
    "data = {\n",
    "   \"doc\": {\n",
    "      \"body\": \"The so boring story.\"\n",
    "   }\n",
    "}\n",
    "\n",
    "elastic.post(f'{INDEX_NAME}/{TYPE_NAME}/1/_update', json=data)\n",
    "elastic.get(f'{INDEX_NAME}/{TYPE_NAME}/1')"
   ]
  },
  {
   "cell_type": "code",
   "execution_count": 14,
   "metadata": {},
   "outputs": [
    {
     "name": "stdout",
     "output_type": "stream",
     "text": [
      "{\n",
      "  \"_index\" : \"stage-2\",\n",
      "  \"_type\" : \"book\",\n",
      "  \"_id\" : \"1\",\n",
      "  \"_version\" : 7,\n",
      "  \"result\" : \"updated\",\n",
      "  \"_shards\" : {\n",
      "    \"total\" : 2,\n",
      "    \"successful\" : 1,\n",
      "    \"failed\" : 0\n",
      "  }\n",
      "}\n",
      "\n",
      "{\n",
      "  \"_index\" : \"stage-2\",\n",
      "  \"_type\" : \"book\",\n",
      "  \"_id\" : \"1\",\n",
      "  \"_version\" : 7,\n",
      "  \"found\" : true,\n",
      "  \"_source\" : {\n",
      "    \"title\" : \"Theory of elasticsearch!\",\n",
      "    \"body\" : \"The so boring story.\",\n",
      "    \"views\" : 0\n",
      "  }\n",
      "}\n",
      "\n"
     ]
    }
   ],
   "source": [
    "data = {\n",
    "    \"script\" : {\n",
    "        \"source\": \"ctx._source.views = 0\",\n",
    "        \"lang\": \"painless\",\n",
    "    }\n",
    "}\n",
    "\n",
    "elastic.post(f'{INDEX_NAME}/{TYPE_NAME}/1/_update', json=data)\n",
    "elastic.get(f'{INDEX_NAME}/{TYPE_NAME}/1')"
   ]
  },
  {
   "cell_type": "code",
   "execution_count": 15,
   "metadata": {},
   "outputs": [
    {
     "name": "stdout",
     "output_type": "stream",
     "text": [
      "{\n",
      "  \"_index\" : \"stage-2\",\n",
      "  \"_type\" : \"book\",\n",
      "  \"_id\" : \"1\",\n",
      "  \"_version\" : 8,\n",
      "  \"result\" : \"updated\",\n",
      "  \"_shards\" : {\n",
      "    \"total\" : 2,\n",
      "    \"successful\" : 1,\n",
      "    \"failed\" : 0\n",
      "  }\n",
      "}\n",
      "\n",
      "{\n",
      "  \"_index\" : \"stage-2\",\n",
      "  \"_type\" : \"book\",\n",
      "  \"_id\" : \"1\",\n",
      "  \"_version\" : 8,\n",
      "  \"found\" : true,\n",
      "  \"_source\" : {\n",
      "    \"title\" : \"Theory of elasticsearch!\",\n",
      "    \"body\" : \"The so boring story.\",\n",
      "    \"views\" : 1\n",
      "  }\n",
      "}\n",
      "\n"
     ]
    }
   ],
   "source": [
    "data = {\n",
    "    \"script\" : {\n",
    "        \"source\": \"ctx._source.views += 1\",\n",
    "        \"lang\": \"painless\",\n",
    "    }\n",
    "}\n",
    "\n",
    "elastic.post(f'{INDEX_NAME}/{TYPE_NAME}/1/_update', json=data)\n",
    "elastic.get(f'{INDEX_NAME}/{TYPE_NAME}/1')"
   ]
  },
  {
   "cell_type": "markdown",
   "metadata": {},
   "source": [
    "### Update by query"
   ]
  },
  {
   "cell_type": "code",
   "execution_count": null,
   "metadata": {},
   "outputs": [],
   "source": [
    "# _delete_by_query\n",
    "\n",
    "data = {\n",
    "    \"query\": {\n",
    "      \"term\": {\n",
    "        \"title\": \"Theory of elasticsearch!\"\n",
    "      }\n",
    "    },\n",
    "    \"script\" : {\n",
    "        \"source\": \"ctx._source.body = 'Theory of elasticsearch!'\",\n",
    "        \"lang\": \"painless\",\n",
    "    }\n",
    "}\n",
    "\n",
    "elastic.post(f'{INDEX_NAME}/{TYPE_NAME}/_update_by_query', json=data)\n",
    "elastic.get(f'{INDEX_NAME}/{TYPE_NAME}/1')"
   ]
  },
  {
   "cell_type": "markdown",
   "metadata": {},
   "source": [
    "### Delete"
   ]
  },
  {
   "cell_type": "code",
   "execution_count": 16,
   "metadata": {},
   "outputs": [
    {
     "name": "stdout",
     "output_type": "stream",
     "text": [
      "{\n",
      "  \"found\" : true,\n",
      "  \"_index\" : \"stage-2\",\n",
      "  \"_type\" : \"book\",\n",
      "  \"_id\" : \"1\",\n",
      "  \"_version\" : 9,\n",
      "  \"result\" : \"deleted\",\n",
      "  \"_shards\" : {\n",
      "    \"total\" : 2,\n",
      "    \"successful\" : 1,\n",
      "    \"failed\" : 0\n",
      "  }\n",
      "}\n",
      "\n"
     ]
    }
   ],
   "source": [
    "# delete\n",
    "\n",
    "elastic.delete(f'{INDEX_NAME}/{TYPE_NAME}/1/')"
   ]
  },
  {
   "cell_type": "code",
   "execution_count": null,
   "metadata": {},
   "outputs": [],
   "source": [
    "# delete by query\n",
    "\n",
    "data = {\n",
    "    \"query\": {\n",
    "        \"match\": {\n",
    "            \"title\": \"some text it is very some text\"\n",
    "        }\n",
    "    }\n",
    "}\n",
    "\n",
    "elastic.post(f'{INDEX_NAME}/{TYPE_NAME}/_delete_by_query', json=data)"
   ]
  },
  {
   "cell_type": "code",
   "execution_count": null,
   "metadata": {},
   "outputs": [],
   "source": [
    "# Bulk _bulk\n",
    "data = [\n",
    "    {\"create\": {\"_id\": 1, \"_index\": INDEX_NAME, \"_type\": TYPE_NAME, \"title\": \"this is 5 items\"}},\n",
    "    {\"create\": {\"_id\": 2, \"_index\": INDEX_NAME, \"_type\": TYPE_NAME, \"title\": \"this is 5 items\"}},\n",
    "    {\"update\": {\"_id\": 2, \"_index\": INDEX_NAME, \"_type\": TYPE_NAME, \"description\": \"Update description\"}},\n",
    "]\n"
   ]
  }
 ],
 "metadata": {
  "kernelspec": {
   "display_name": "Python 3",
   "language": "python",
   "name": "python3"
  },
  "language_info": {
   "codemirror_mode": {
    "name": "ipython",
    "version": 3
   },
   "file_extension": ".py",
   "mimetype": "text/x-python",
   "name": "python",
   "nbconvert_exporter": "python",
   "pygments_lexer": "ipython3",
   "version": "3.6.5"
  }
 },
 "nbformat": 4,
 "nbformat_minor": 2
}
