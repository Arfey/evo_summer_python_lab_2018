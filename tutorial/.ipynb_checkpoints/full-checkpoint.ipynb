{
 "cells": [
  {
   "cell_type": "code",
   "execution_count": 1,
   "metadata": {},
   "outputs": [
    {
     "name": "stdout",
     "output_type": "stream",
     "text": [
      "Book(title='Theory of elastic search', description='Docs of elastic search aip.', author='Misha Gavela', pages=0)\n",
      "**********\n",
      "{'title': 'Theory of elastic search', 'description': 'Docs of elastic search aip.', 'author': 'Misha Gavela', 'pages': 0}\n"
     ]
    }
   ],
   "source": [
    "from dataclasses import dataclass, asdict\n",
    "\n",
    "\n",
    "\n",
    "@dataclass\n",
    "class Book:\n",
    "    \"\"\"\n",
    "    The main abstraction for representation\n",
    "    of information connected with book.\n",
    "    \"\"\"\n",
    "    title: str\n",
    "    description: str\n",
    "    author: str\n",
    "    pages: int = 0\n",
    "    \n",
    "    def to_dict(self):\n",
    "        \"\"\"\n",
    "        The method for convert information\n",
    "        from data class to a dict.\n",
    "        \"\"\"\n",
    "        return asdict(self)    \n",
    "\n",
    "    \n",
    "book = Book(\n",
    "    title='Theory of elastic search',\n",
    "    description='Docs of elastic search aip.',\n",
    "    author='Misha Gavela'\n",
    ")\n",
    "\n",
    "print(book)\n",
    "print(\"*\" * 10)\n",
    "print(book.to_dict())\n",
    "\n"
   ]
  }
 ],
 "metadata": {
  "kernelspec": {
   "display_name": "Python 3",
   "language": "python",
   "name": "python3"
  },
  "language_info": {
   "codemirror_mode": {
    "name": "ipython",
    "version": 3
   },
   "file_extension": ".py",
   "mimetype": "text/x-python",
   "name": "python",
   "nbconvert_exporter": "python",
   "pygments_lexer": "ipython3",
   "version": "3.6.5"
  }
 },
 "nbformat": 4,
 "nbformat_minor": 2
}
