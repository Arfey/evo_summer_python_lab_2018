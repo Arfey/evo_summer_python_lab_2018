{
 "cells": [
  {
   "cell_type": "markdown",
   "metadata": {},
   "source": [
    "# Stage 2 | Simple api methods"
   ]
  },
  {
   "cell_type": "code",
   "execution_count": null,
   "metadata": {},
   "outputs": [],
   "source": [
    "import requests as r\n",
    "\n",
    "\n",
    "class Elastic:\n",
    "    \"\"\"\n",
    "    The so simple wrapper for Elasticsearch.\n",
    "    \"\"\"\n",
    "    headers = {\n",
    "        'Content-Type': 'application/json'\n",
    "    }\n",
    "    url = 'http://elsatic:9200/{path}?pretty'\n",
    "    \n",
    "    def get(self, path: str = '/') -> None:\n",
    "        res =  r.get(self.url.format(path=path))\n",
    "        print(res.text)\n",
    "    \n",
    "    def post(self, path: str = '/', **kwargs) -> None:\n",
    "        res =  r.post(\n",
    "            self.url.format(path=path),\n",
    "            headers=self.headers,\n",
    "            **kwargs\n",
    "        )\n",
    "        print(res.text)\n",
    "    \n",
    "    def put(self, path: str = '/', **kwargs) -> None:\n",
    "        res =  r.put(\n",
    "            self.url.format(path=path),\n",
    "            headers=self.headers,\n",
    "            **kwargs,\n",
    "        )\n",
    "        print(res.text)\n",
    "    \n",
    "    \n",
    "    def delete(self, path: str = '/') -> None:\n",
    "        res =  r.delete(self.url.format(path=path))\n",
    "        print(res.text)\n",
    "\n",
    "\n",
    "elastic = Elastic()\n",
    "\n",
    "elastic.get('/')"
   ]
  },
  {
   "cell_type": "markdown",
   "metadata": {},
   "source": [
    "### Index"
   ]
  },
  {
   "cell_type": "code",
   "execution_count": null,
   "metadata": {},
   "outputs": [],
   "source": [
    "# settings\n",
    "\n",
    "INDEX_NAME = 'stage-2'\n",
    "TYPE_NAME = 'book'"
   ]
  },
  {
   "cell_type": "code",
   "execution_count": null,
   "metadata": {},
   "outputs": [],
   "source": [
    "# create index\n",
    "\n",
    "\n",
    "elastic.put(f'{INDEX_NAME}')"
   ]
  },
  {
   "cell_type": "code",
   "execution_count": null,
   "metadata": {},
   "outputs": [],
   "source": [
    "# create a first instance\n",
    "# create auto mapping with instance, fields, version, id\n",
    "data = {\n",
    "    \"title\": \"My favourite book\",\n",
    "    \"body\": \"The so boring story.\"\n",
    "}\n",
    "\n",
    "elastic.post(f'{INDEX_NAME}/{TYPE_NAME}', json=data)"
   ]
  },
  {
   "cell_type": "markdown",
   "metadata": {},
   "source": [
    "### Get"
   ]
  },
  {
   "cell_type": "code",
   "execution_count": null,
   "metadata": {},
   "outputs": [],
   "source": [
    "# get information\n",
    "\n",
    "elastic.get(f'{INDEX_NAME}/{TYPE_NAME}/1')"
   ]
  },
  {
   "cell_type": "markdown",
   "metadata": {},
   "source": [
    "### MGet"
   ]
  },
  {
   "cell_type": "code",
   "execution_count": null,
   "metadata": {},
   "outputs": [],
   "source": [
    "# false\n",
    "\n",
    "data = {\n",
    "    \"ids\": [\"1\", \"AWSvdbwJKhyi0n1CdVQm\"]\n",
    "}\n",
    "\n",
    "elastic.post(f'{INDEX_NAME}/{TYPE_NAME}/_mget', json=data)"
   ]
  },
  {
   "cell_type": "markdown",
   "metadata": {},
   "source": [
    "### Update"
   ]
  },
  {
   "cell_type": "code",
   "execution_count": null,
   "metadata": {},
   "outputs": [],
   "source": [
    "# update query\n",
    "\n",
    "data = {\n",
    "    \"title\": \"Theory of elasticsearch!\"\n",
    "}\n",
    "\n",
    "elastic.put(f'{INDEX_NAME}/{TYPE_NAME}/1', json=data)\n",
    "elastic.get(f'{INDEX_NAME}/{TYPE_NAME}/1')"
   ]
  },
  {
   "cell_type": "code",
   "execution_count": null,
   "metadata": {},
   "outputs": [],
   "source": [
    "# revrite\n",
    "\n",
    "data = {\n",
    "   \"doc\": {\n",
    "      \"body\": \"The so boring story.\"\n",
    "   }\n",
    "}\n",
    "\n",
    "elastic.post(f'{INDEX_NAME}/{TYPE_NAME}/1/_update', json=data)\n",
    "elastic.get(f'{INDEX_NAME}/{TYPE_NAME}/1')"
   ]
  },
  {
   "cell_type": "code",
   "execution_count": null,
   "metadata": {},
   "outputs": [],
   "source": [
    "data = {\n",
    "    \"script\" : {\n",
    "        \"source\": \"ctx._source.views = 0\",\n",
    "        \"lang\": \"painless\",\n",
    "    }\n",
    "}\n",
    "\n",
    "elastic.post(f'{INDEX_NAME}/{TYPE_NAME}/1/_update', json=data)\n",
    "elastic.get(f'{INDEX_NAME}/{TYPE_NAME}/1')"
   ]
  },
  {
   "cell_type": "code",
   "execution_count": null,
   "metadata": {},
   "outputs": [],
   "source": [
    "data = {\n",
    "    \"script\" : {\n",
    "        \"source\": \"ctx._source.views += 1\",\n",
    "        \"lang\": \"painless\",\n",
    "    }\n",
    "}\n",
    "\n",
    "elastic.post(f'{INDEX_NAME}/{TYPE_NAME}/1/_update', json=data)\n",
    "elastic.get(f'{INDEX_NAME}/{TYPE_NAME}/1')"
   ]
  },
  {
   "cell_type": "markdown",
   "metadata": {},
   "source": [
    "### Update by query"
   ]
  },
  {
   "cell_type": "code",
   "execution_count": null,
   "metadata": {},
   "outputs": [],
   "source": [
    "# _delete_by_query\n",
    "\n",
    "data = {\n",
    "    \"query\": {\n",
    "      \"term\": {\n",
    "        \"title\": \"Theory of elasticsearch!\"\n",
    "      }\n",
    "    },\n",
    "    \"script\" : {\n",
    "        \"source\": \"ctx._source.body = 'Theory of elasticsearch!'\",\n",
    "        \"lang\": \"painless\",\n",
    "    }\n",
    "}\n",
    "\n",
    "elastic.post(f'{INDEX_NAME}/{TYPE_NAME}/_update_by_query', json=data)\n",
    "elastic.get(f'{INDEX_NAME}/{TYPE_NAME}/1')"
   ]
  },
  {
   "cell_type": "markdown",
   "metadata": {},
   "source": [
    "### Delete"
   ]
  },
  {
   "cell_type": "code",
   "execution_count": null,
   "metadata": {},
   "outputs": [],
   "source": [
    "# delete\n",
    "\n",
    "elastic.delete(f'{INDEX_NAME}/{TYPE_NAME}/1/')"
   ]
  },
  {
   "cell_type": "code",
   "execution_count": null,
   "metadata": {},
   "outputs": [],
   "source": [
    "# delete by query\n",
    "\n",
    "data = {\n",
    "    \"query\": {\n",
    "        \"match\": {\n",
    "            \"title\": \"some text it is very some text\"\n",
    "        }\n",
    "    }\n",
    "}\n",
    "\n",
    "elastic.post(f'{INDEX_NAME}/{TYPE_NAME}/_delete_by_query', json=data)"
   ]
  },
  {
   "cell_type": "code",
   "execution_count": null,
   "metadata": {},
   "outputs": [],
   "source": [
    "# Bulk _bulk\n",
    "data = [\n",
    "    {\"create\": {\"_id\": 1, \"_index\": INDEX_NAME, \"_type\": TYPE_NAME, \"title\": \"this is 5 items\"}},\n",
    "    {\"create\": {\"_id\": 2, \"_index\": INDEX_NAME, \"_type\": TYPE_NAME, \"title\": \"this is 5 items\"}},\n",
    "    {\"update\": {\"_id\": 2, \"_index\": INDEX_NAME, \"_type\": TYPE_NAME, \"description\": \"Update description\"}},\n",
    "]\n"
   ]
  }
 ],
 "metadata": {
  "kernelspec": {
   "display_name": "Python 3",
   "language": "python",
   "name": "python3"
  },
  "language_info": {
   "codemirror_mode": {
    "name": "ipython",
    "version": 3
   },
   "file_extension": ".py",
   "mimetype": "text/x-python",
   "name": "python",
   "nbconvert_exporter": "python",
   "pygments_lexer": "ipython3",
   "version": "3.6.5"
  }
 },
 "nbformat": 4,
 "nbformat_minor": 2
}
