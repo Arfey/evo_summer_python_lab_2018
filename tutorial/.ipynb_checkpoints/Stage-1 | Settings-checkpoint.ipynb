{
 "cells": [
  {
   "cell_type": "markdown",
   "metadata": {},
   "source": [
    "# Hello world! 🚀"
   ]
  },
  {
   "cell_type": "code",
   "execution_count": null,
   "metadata": {},
   "outputs": [],
   "source": [
    "import requests as r\n",
    "\n",
    "\n",
    "class Elastic:\n",
    "    \"\"\"\n",
    "    The so simple wrapper for Elasticsearch.\n",
    "    \"\"\"\n",
    "    headers = {\n",
    "        'Content-Type': 'application/json'\n",
    "    }\n",
    "    url = 'http://elsatic:9200/{path}?pretty'\n",
    "    \n",
    "    def get(self, path: str = '/') -> None:\n",
    "        res =  r.get(self.url.format(path=path))\n",
    "        print(res.text)\n",
    "    \n",
    "    def post(self, path: str = '/', **kwargs) -> None:\n",
    "        res =  r.post(\n",
    "            self.url.format(path=path),\n",
    "            headers=self.headers,\n",
    "            **kwargs\n",
    "        )\n",
    "        print(res.text)\n",
    "    \n",
    "    def put(self, path: str = '/', **kwargs) -> None:\n",
    "        res =  r.put(\n",
    "            self.url.format(path=path),\n",
    "            headers=self.headers,\n",
    "            **kwargs,\n",
    "        )\n",
    "        print(res.text)\n",
    "    \n",
    "    \n",
    "    def delete(self, path: str = '/') -> None:\n",
    "        res =  r.delete(self.url.format(path=path))\n",
    "        print(res.text)\n",
    "\n",
    "\n",
    "elastic = Elastic()\n",
    "\n",
    "elastic.get('/')"
   ]
  },
  {
   "cell_type": "markdown",
   "metadata": {},
   "source": [
    "---"
   ]
  },
  {
   "cell_type": "markdown",
   "metadata": {},
   "source": [
    "### Elastic Search info\n",
    "[\\[docs\\]](https://www.elastic.co/guide/en/elasticsearch/reference/current/cat.html)"
   ]
  },
  {
   "cell_type": "code",
   "execution_count": null,
   "metadata": {},
   "outputs": [],
   "source": [
    "# cluster status\n",
    "elastic.get('_cat/health')"
   ]
  },
  {
   "cell_type": "code",
   "execution_count": null,
   "metadata": {},
   "outputs": [],
   "source": [
    "# allocation of data\n",
    "elastic.get('_cat/allocation')"
   ]
  },
  {
   "cell_type": "markdown",
   "metadata": {},
   "source": [
    "---"
   ]
  },
  {
   "cell_type": "markdown",
   "metadata": {},
   "source": [
    "### Organization of data"
   ]
  },
  {
   "cell_type": "markdown",
   "metadata": {},
   "source": [
    "**PostgreSQL**\n",
    "\n",
    "- database\n",
    "- table\n",
    "- row\n",
    "\n",
    "**Elastic Search**\n",
    "\n",
    "- index\n",
    "- type\n",
    "- document\n"
   ]
  },
  {
   "cell_type": "markdown",
   "metadata": {},
   "source": [
    "---"
   ]
  },
  {
   "cell_type": "markdown",
   "metadata": {},
   "source": [
    "### Schema"
   ]
  },
  {
   "cell_type": "code",
   "execution_count": null,
   "metadata": {},
   "outputs": [],
   "source": [
    "# GET /index_name/\n",
    "\n",
    "elastic.get('library/')"
   ]
  },
  {
   "cell_type": "code",
   "execution_count": null,
   "metadata": {},
   "outputs": [],
   "source": [
    "elastic.get('library/_settings')"
   ]
  },
  {
   "cell_type": "markdown",
   "metadata": {},
   "source": [
    "---"
   ]
  },
  {
   "cell_type": "markdown",
   "metadata": {},
   "source": [
    "### Create index"
   ]
  },
  {
   "cell_type": "code",
   "execution_count": null,
   "metadata": {},
   "outputs": [],
   "source": [
    "# create index\n",
    "# retry, shards\n",
    "\n",
    "TEST_INDEX = 'test_index'\n",
    "\n",
    "data = {\n",
    "    \"settings\" : {\n",
    "        \"index\" : {\n",
    "            \"number_of_shards\" : 2,\n",
    "            \"number_of_replicas\" : 0\n",
    "        }\n",
    "    }\n",
    "}\n",
    "\n",
    "# PUT /index_name/\n",
    "\n",
    "elastic.put(f'{TEST_INDEX}', json=data)"
   ]
  },
  {
   "cell_type": "markdown",
   "metadata": {},
   "source": [
    " "
   ]
  },
  {
   "cell_type": "code",
   "execution_count": null,
   "metadata": {},
   "outputs": [],
   "source": [
    "elastic.get(f'{TEST_INDEX}/')"
   ]
  },
  {
   "cell_type": "markdown",
   "metadata": {},
   "source": [
    " ---"
   ]
  },
  {
   "cell_type": "markdown",
   "metadata": {},
   "source": [
    "### Delete index"
   ]
  },
  {
   "cell_type": "code",
   "execution_count": null,
   "metadata": {},
   "outputs": [],
   "source": [
    "# DELETE /index_name/\n",
    "\n",
    "elastic.delete(f'{TEST_INDEX}')"
   ]
  },
  {
   "cell_type": "markdown",
   "metadata": {},
   "source": [
    "### Create type"
   ]
  },
  {
   "cell_type": "markdown",
   "metadata": {},
   "source": [
    " "
   ]
  },
  {
   "cell_type": "code",
   "execution_count": null,
   "metadata": {},
   "outputs": [],
   "source": [
    "data = {\n",
    "    \"body\": \"I am auto generated field.\",\n",
    "    \"number\": 3\n",
    "}\n",
    "\n",
    "# POST /index_name/type_name/\n",
    "\n",
    "elastic.post(f'{TEST_INDEX}/auto_type/', json=data)"
   ]
  },
  {
   "cell_type": "code",
   "execution_count": null,
   "metadata": {},
   "outputs": [],
   "source": [
    "elastic.get(f'{TEST_INDEX}/_mapping/auto_type')"
   ]
  },
  {
   "cell_type": "code",
   "execution_count": null,
   "metadata": {},
   "outputs": [],
   "source": [
    "# number > 3\n",
    "\n",
    "data = {\n",
    "    \"body\": False,\n",
    "    \"number\": 3.5\n",
    "}\n",
    "\n",
    "\n",
    "elastic.post(f'{TEST_INDEX}/auto_type/', json=data)"
   ]
  },
  {
   "cell_type": "markdown",
   "metadata": {},
   "source": [
    "___"
   ]
  },
  {
   "cell_type": "markdown",
   "metadata": {},
   "source": [
    "### Create type\n",
    "Define the type before creating"
   ]
  },
  {
   "cell_type": "code",
   "execution_count": null,
   "metadata": {},
   "outputs": [],
   "source": [
    "DOC_TYPE = 'doc_type'\n",
    "data = {\n",
    "  \"properties\": {\n",
    "    \"title\": {\n",
    "      \"type\": \"text\"   \n",
    "    },\n",
    "    \"number\": {\n",
    "      \"type\": \"long\"\n",
    "    },\n",
    "    \"is_active\": {\n",
    "      \"type\": \"boolean\"\n",
    "    }\n",
    "  }\n",
    "}\n",
    "\n",
    "res = elastic.put(f'{TEST_INDEX}/{DOC_TYPE}/_mapping', json=data)"
   ]
  },
  {
   "cell_type": "code",
   "execution_count": null,
   "metadata": {
    "scrolled": true
   },
   "outputs": [],
   "source": [
    "elastic.get(f'{TEST_INDEX}/_mapping/{DOC_TYPE}')"
   ]
  },
  {
   "cell_type": "markdown",
   "metadata": {},
   "source": [
    "### Field datatypes\n",
    "\n",
    "[\\[docs\\]](https://www.elastic.co/guide/en/elasticsearch/reference/current/mapping-types.html)\n"
   ]
  },
  {
   "cell_type": "markdown",
   "metadata": {},
   "source": [
    "**String**\n",
    "\n",
    "- text\n",
    "- keyword\n",
    "\n",
    "**Number**\n",
    "\n",
    "- integer\n",
    "- float\n",
    "- ...\n",
    "\n",
    "**Date**\n",
    "\n",
    "- date\n",
    "\n",
    "**Boolean**\n",
    "\n",
    "- boolean\n",
    "\n",
    "**Binary**\n",
    "- binary\n",
    "\n",
    "**Range**\n",
    "- integer_range\n",
    "- ...\n",
    "\n",
    "**Geo-point**\n",
    "\n",
    "**Object**\n",
    "\n",
    "**Array**\n",
    "\n",
    "..."
   ]
  },
  {
   "cell_type": "markdown",
   "metadata": {},
   "source": [
    "---"
   ]
  },
  {
   "cell_type": "markdown",
   "metadata": {},
   "source": [
    "### String"
   ]
  },
  {
   "cell_type": "markdown",
   "metadata": {},
   "source": [
    "```json\n",
    "{\n",
    "  \"mappings\": {\n",
    "    \"my_index\": {\n",
    "      \"properties\": {\n",
    "        \"full_name\": {\n",
    "          \"type\":  \"text\"\n",
    "        }\n",
    "      }\n",
    "    }\n",
    "  }\n",
    "}\n",
    "```"
   ]
  },
  {
   "cell_type": "markdown",
   "metadata": {},
   "source": [
    "---\n",
    "\"**type**\":  \"text\" / \"keywords\"\n",
    "\n",
    "(analyze, filter, prefix)\n"
   ]
  },
  {
   "cell_type": "markdown",
   "metadata": {},
   "source": [
    "---\n",
    "\"**analyzer**\": \"standard\"\n",
    "\n",
    "---\n",
    "\"**index**\": false\n",
    "\n",
    "___\n",
    "\"**similarity**\": \"BM25\" | \"classic\" (TF/IDF) | \"boolean\"\n"
   ]
  },
  {
   "cell_type": "markdown",
   "metadata": {},
   "source": [
    "---\n",
    "**fields:**\n",
    "\n",
    "```json\n",
    "\"city\": {\n",
    "  \"type\": \"text\",\n",
    "  \"fields\": {\n",
    "    \"keyword\": { \n",
    "      \"type\":  \"keyword\"\n",
    "    }\n",
    "  }\n",
    "}\n",
    "```\n",
    "\n",
    "(analyzers, languages, types)\n",
    "\n",
    "\n",
    "\n",
    "[\\[Example\\]](https://www.elastic.co/guide/en/elasticsearch/reference/current/multi-fields.html#_multi_fields_with_multiple_analyzers)"
   ]
  },
  {
   "cell_type": "markdown",
   "metadata": {},
   "source": [
    "### Analyzer\n",
    "\n",
    "[\\[docs\\]](https://www.elastic.co/guide/en/elasticsearch/reference/current/analysis-tokenizers.html)"
   ]
  },
  {
   "cell_type": "markdown",
   "metadata": {},
   "source": [
    "Analyzer\n",
    "\n",
    "    - character filters\n",
    "    - tokenizers\n",
    "    - filters"
   ]
  },
  {
   "cell_type": "markdown",
   "metadata": {},
   "source": [
    "### Character filters\n",
    "___\n",
    "\n",
    "**raw string:**\n",
    "```html\n",
    "<a href=\"/\">Link to sources!</a>\n",
    "```\n",
    "\n",
    "**prepare string:**\n",
    "\n",
    "```\n",
    " Link to sources\n",
    "```"
   ]
  },
  {
   "cell_type": "markdown",
   "metadata": {},
   "source": [
    "### Tokenizers\n",
    "\n",
    "___\n",
    "\n",
    "**prepare string:**\n",
    "\n",
    "```\n",
    " Link to sources\n",
    "```\n",
    "\n",
    "**tokens**\n",
    "```\n",
    " [Link, to, source]\n",
    "```\n"
   ]
  },
  {
   "cell_type": "markdown",
   "metadata": {},
   "source": [
    "### Filters\n",
    "\n",
    "___\n",
    "\n",
    "**tokens**\n",
    "```\n",
    " [Link, to, source]\n",
    "```\n",
    "\n",
    "\n",
    "**final result:**\n",
    "```\n",
    " [link, source]\n",
    "```\n",
    "\n",
    "\n",
    "\n",
    "built-in, text, custom, query, changed"
   ]
  },
  {
   "cell_type": "markdown",
   "metadata": {},
   "source": [
    "___"
   ]
  },
  {
   "cell_type": "code",
   "execution_count": null,
   "metadata": {},
   "outputs": [],
   "source": [
    "# filter, ngram\n",
    "\n",
    "data = {\n",
    "  \"tokenizer\": \"standard\",\n",
    "  \"text\": \"The most interesting query in the world!\"\n",
    "}\n",
    "\n",
    "res = elastic.post(f'_analyze', json=data)"
   ]
  },
  {
   "cell_type": "code",
   "execution_count": null,
   "metadata": {},
   "outputs": [],
   "source": [
    "data = {\n",
    "  \"settings\": {\n",
    "    \"analysis\": {\n",
    "      \"analyzer\": {\n",
    "        \"my_analyzer\": {\n",
    "          \"tokenizer\": \"new_tokenizer\",\n",
    "          \"char_filter\": [\"html_strip\"],\n",
    "          \"filter\": [\"lowercase\", \"stop_filter\"]\n",
    "            \n",
    "        }\n",
    "      },\n",
    "      \"tokenizer\": {\n",
    "        \"new_tokenizer\": {\n",
    "          \"type\": \"letter\",\n",
    "        }\n",
    "      },\n",
    "      \"filter\": {\n",
    "        \"stop_filter\": {\n",
    "          \"type\": \"stop\",\n",
    "          \"stopwords\": [\"the\", \"is\", \"or\", \"and\", \"online\"]\n",
    "        }\n",
    "      }\n",
    "    }\n",
    "  }\n",
    "}\n",
    "\n",
    "\n",
    "elastic.post(f'{TEST_INDEX}/_close')\n",
    "\n",
    "elastic.put(f'{TEST_INDEX}/_settings', json=data)\n",
    "\n",
    "elastic.post(f'{TEST_INDEX}/_open')\n",
    "\n",
    "elastic.get(f'{TEST_INDEX}/_settings')\n"
   ]
  },
  {
   "cell_type": "code",
   "execution_count": null,
   "metadata": {},
   "outputs": [],
   "source": [
    "data = {\n",
    "  \"analyzer\": \"my_analyzer\",\n",
    "  \"text\": \"<a>some</a> The most interesting query in the world!\"\n",
    "}\n",
    "\n",
    "elastic.post(f'{TEST_INDEX}/_analyze', json=data)"
   ]
  }
 ],
 "metadata": {
  "kernelspec": {
   "display_name": "Python 3",
   "language": "python",
   "name": "python3"
  },
  "language_info": {
   "codemirror_mode": {
    "name": "ipython",
    "version": 3
   },
   "file_extension": ".py",
   "mimetype": "text/x-python",
   "name": "python",
   "nbconvert_exporter": "python",
   "pygments_lexer": "ipython3",
   "version": "3.6.5"
  }
 },
 "nbformat": 4,
 "nbformat_minor": 2
}
